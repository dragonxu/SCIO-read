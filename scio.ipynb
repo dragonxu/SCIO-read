{
 "cells": [
  {
   "cell_type": "markdown",
   "metadata": {},
   "source": [
    "# Introduction\n",
    "\n",
    "This code reads the scio and/or saves to a json file, then tries to decode it."
   ]
  },
  {
   "cell_type": "code",
   "execution_count": null,
   "metadata": {},
   "outputs": [],
   "source": [
    "# To read settings file\n",
    "import json\n",
    "# Parst the command line arguments\n",
    "import argparse\n",
    "\n",
    "# Logging/output format setup\n",
    "import logging\n",
    "log = logging.getLogger('root')\n",
    "log.setLevel(logging.DEBUG)\n",
    "#logging.basicConfig(format='[%(asctime)s] %(levelname)8s %(module)15s: %(message)s')\n",
    "logging.basicConfig(format='[%(asctime)s] %(levelname)8s: %(message)s', datefmt='%Y-%m-%d %H:%M:%S')\n",
    "\n",
    "# The SCIO library\n",
    "#import sciolib.sciolib as scio"
   ]
  },
  {
   "cell_type": "code",
   "execution_count": null,
   "metadata": {},
   "outputs": [],
   "source": [
    "def main_fct(calibrate, infile, outfile, calfile, protocol, raw):\n",
    "    if(calibrate): # DEBUG!!!\n",
    "        log.debug(\"We were told to calibrate\")\n",
    "    log.info(\"Input/output\")\n",
    "        \n",
    "    # Find the home folder (temporary)\n",
    "    from pathlib import Path\n",
    "    json_dir = str(Path.home())\n",
    "    \n",
    "    # Check if we need to scan\n",
    "    if(infile is not None):\n",
    "        # Input comes from a file\n",
    "        log.info(\"--> Input through:    \" + json_dir + \"/\" + infile)\n",
    "        log.info(\"--> Output file name: \" + \"N/A\")\n",
    "        # Read the raw json file\n",
    "        json_df = scio.raw_read(json_dir + \"/\" + infile)\n",
    "        scan_raw_df = json_df[7:10] # Element 10 is not included...\n",
    "    else:\n",
    "        # We have to scan (Only USB currently works)\n",
    "        log.info(\"--> Input through:    \" + protocol)\n",
    "        log.info(\"--> Output file name: \" + outfile)\n",
    "        \n",
    "        # Try to find the device\n",
    "        scio_device = scio.find_scio_dev()\n",
    "    \n",
    "        # https://makersportal.com/blog/2018/2/25/python-datalogger-reading-the-serial-output-from-arduino-to-analyze-data-using-pyserial\n",
    "        try: # Make sure to close the serial port if it was still open\n",
    "            ser.close()\n",
    "        except:\n",
    "            pass\n",
    "    \n",
    "        # Read temperature before scanning\n",
    "        temp_before_df = scio.read_data(scio_device, 4) # 4 = read temperature\n",
    "        log.info(\"CMOS T: {:.3f}\".format(temp_before_df[0])) # cmosTemperature, chipTemperature, objectTemperature\n",
    "        log.info(\"Chip T: {:.3f}\".format(temp_before_df[1]))\n",
    "        log.info(\"Obj. T: {:.3f}\".format(temp_before_df[2]))\n",
    "    \n",
    "        # Scan and decode\n",
    "        scan_raw_df = scio.read_data(scio_device, 2) # 2 = read data\n",
    "    \n",
    "        # Read temperature after scanning\n",
    "        temp_after_df = scio.read_data(scio_device, 4)\n",
    "    \n",
    "        # Path to output file within home directory\n",
    "        if(outfile == \"scio-scan\"):\n",
    "            # The default file name was given!\n",
    "            log.info(\"WARNING! The default file was used. Any existing previous file will be overwritten!\")\n",
    "            \n",
    "        # Save the file\n",
    "        log.debug(\"Writing raw scan to: \" + json_dir + \"/\" + outfile + \".json\")\n",
    "        # Saves the raw data. In the end, I'll want to save the scan as a CSV\n",
    "        scio.raw_write(temp_before_df, temp_after_df, scan_raw_df, json_dir + \"/\" + outfile + \".json\")\n",
    "    \n",
    "    #print(scio.read_data(scio_device, 1)) # Read device ID\n",
    "    #print(scio.read_data(scio_device, -124)) # Read BLE ID\n",
    "    \n",
    "    if(calfile is not None):\n",
    "        # read calibration file\n",
    "        log.info(\"--> Calibration file name: \" + \"N/A\")\n",
    "        # Read the raw json file\n",
    "        json_df = scio.raw_read(json_dir + \"/\" + calfile)\n",
    "        scan_cal_df = json_df[7:10] # Element 10 is not included...\n",
    "    \n",
    "    log.info(\"Trying to decode data\")\n",
    "    #scan_df = scio.decode_data(scan_raw_df) # DOES NOT YET WORK\n",
    "    scan_df = scio.decode_data2(scan_raw_df, scan_cal_df)\n",
    "    #print(scan_df) #DEBUG\n",
    "    #log.debug(\"Number of scans in data:  \" + str(len(scan_df)))\n",
    "    #log.debug(\"Number of variables/scan: \" + str(len(scan_df[0])))\n",
    "    print(\"\")"
   ]
  },
  {
   "cell_type": "code",
   "execution_count": null,
   "metadata": {},
   "outputs": [],
   "source": [
    "main_fct(calibrate, infile, outfile, calfile, protocol, raw)"
   ]
  }
 ],
 "metadata": {
  "kernelspec": {
   "display_name": "scio",
   "language": "python",
   "name": "scio"
  },
  "language_info": {
   "codemirror_mode": {
    "name": "ipython",
    "version": 3
   },
   "file_extension": ".py",
   "mimetype": "text/x-python",
   "name": "python",
   "nbconvert_exporter": "python",
   "pygments_lexer": "ipython3",
   "version": "3.7.4"
  }
 },
 "nbformat": 4,
 "nbformat_minor": 4
}
